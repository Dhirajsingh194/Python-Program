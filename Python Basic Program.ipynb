{
 "cells": [
  {
   "cell_type": "code",
   "execution_count": 3,
   "id": "6325fe4a",
   "metadata": {},
   "outputs": [
    {
     "ename": "NameError",
     "evalue": "name 'Hello' is not defined",
     "output_type": "error",
     "traceback": [
      "\u001b[1;31m---------------------------------------------------------------------------\u001b[0m",
      "\u001b[1;31mNameError\u001b[0m                                 Traceback (most recent call last)",
      "\u001b[1;32m<ipython-input-3-ac29a908b1b1>\u001b[0m in \u001b[0;36m<module>\u001b[1;34m\u001b[0m\n\u001b[0;32m      1\u001b[0m \u001b[1;31m#Error will be displayed here because Hello is not defined\u001b[0m\u001b[1;33m\u001b[0m\u001b[1;33m\u001b[0m\u001b[1;33m\u001b[0m\u001b[0m\n\u001b[1;32m----> 2\u001b[1;33m \u001b[0mHello\u001b[0m\u001b[1;33m\u001b[0m\u001b[1;33m\u001b[0m\u001b[0m\n\u001b[0m",
      "\u001b[1;31mNameError\u001b[0m: name 'Hello' is not defined"
     ]
    }
   ],
   "source": [
    "#Error will be displayed here because Hello is not defined\n",
    "Hello"
   ]
  },
  {
   "cell_type": "markdown",
   "id": "bc7f6d32",
   "metadata": {},
   "source": [
    "In-Order to print anything, you can pass that string to Single on Double Quotes"
   ]
  },
  {
   "cell_type": "code",
   "execution_count": 2,
   "id": "34729beb",
   "metadata": {},
   "outputs": [
    {
     "name": "stdout",
     "output_type": "stream",
     "text": [
      "Bhagat Singh\n"
     ]
    }
   ],
   "source": [
    "print(\"Bhagat Singh\")"
   ]
  },
  {
   "cell_type": "code",
   "execution_count": 4,
   "id": "7be9b7e4",
   "metadata": {},
   "outputs": [
    {
     "name": "stdout",
     "output_type": "stream",
     "text": [
      "Subash Chadra Bose\n"
     ]
    }
   ],
   "source": [
    "print('Subash Chadra Bose')"
   ]
  },
  {
   "cell_type": "markdown",
   "id": "c98415fc",
   "metadata": {},
   "source": [
    "For plain text python through an error"
   ]
  },
  {
   "cell_type": "code",
   "execution_count": 5,
   "id": "45d4eccb",
   "metadata": {},
   "outputs": [
    {
     "ename": "NameError",
     "evalue": "name 'bygsdf' is not defined",
     "output_type": "error",
     "traceback": [
      "\u001b[1;31m---------------------------------------------------------------------------\u001b[0m",
      "\u001b[1;31mNameError\u001b[0m                                 Traceback (most recent call last)",
      "\u001b[1;32m<ipython-input-5-c9ac073521ee>\u001b[0m in \u001b[0;36m<module>\u001b[1;34m\u001b[0m\n\u001b[1;32m----> 1\u001b[1;33m \u001b[0mbygsdf\u001b[0m\u001b[1;33m\u001b[0m\u001b[1;33m\u001b[0m\u001b[0m\n\u001b[0m\u001b[0;32m      2\u001b[0m \u001b[0mf\u001b[0m\u001b[1;33m\u001b[0m\u001b[1;33m\u001b[0m\u001b[0m\n\u001b[0;32m      3\u001b[0m \u001b[0mfer\u001b[0m\u001b[1;33m\u001b[0m\u001b[1;33m\u001b[0m\u001b[0m\n\u001b[0;32m      4\u001b[0m \u001b[0mfe\u001b[0m\u001b[1;33m\u001b[0m\u001b[1;33m\u001b[0m\u001b[0m\n\u001b[0;32m      5\u001b[0m \u001b[0mrg\u001b[0m\u001b[1;33m\u001b[0m\u001b[1;33m\u001b[0m\u001b[0m\n",
      "\u001b[1;31mNameError\u001b[0m: name 'bygsdf' is not defined"
     ]
    }
   ],
   "source": [
    "bygsdf\n",
    "f\n",
    "fer\n",
    "fe\n",
    "rg\n",
    "g\n"
   ]
  },
  {
   "cell_type": "markdown",
   "id": "a764f309",
   "metadata": {},
   "source": [
    "# Comment in Python"
   ]
  },
  {
   "cell_type": "markdown",
   "id": "b9293f9e",
   "metadata": {},
   "source": [
    "Single Line Comment comment"
   ]
  },
  {
   "cell_type": "code",
   "execution_count": 7,
   "id": "459c6597",
   "metadata": {},
   "outputs": [
    {
     "name": "stdout",
     "output_type": "stream",
     "text": [
      "This is single line comment\n"
     ]
    }
   ],
   "source": [
    "#This is single line comment\n",
    "print(\"This is single line comment\")"
   ]
  },
  {
   "cell_type": "code",
   "execution_count": 10,
   "id": "65bcb3b0",
   "metadata": {},
   "outputs": [
    {
     "name": "stdout",
     "output_type": "stream",
     "text": [
      "This is multi line comment\n"
     ]
    }
   ],
   "source": [
    "#This is Multi-Line comment\n",
    "#This is multi-line comment\n",
    "print(\"This is multi line comment\")\n"
   ]
  },
  {
   "cell_type": "markdown",
   "id": "c3b08564",
   "metadata": {},
   "source": [
    "Multi-Line Comment"
   ]
  },
  {
   "cell_type": "markdown",
   "id": "a9c37821",
   "metadata": {},
   "source": [
    "When we want to mark several line as a comment then writing # in the begining of every line is very boring this to do, INstead to typing # for every line, we can use \"\"\"(triple double quotes) or '''(triple double quotes) in start and at the end"
   ]
  },
  {
   "cell_type": "code",
   "execution_count": 13,
   "id": "dcd1594a",
   "metadata": {},
   "outputs": [
    {
     "data": {
      "text/plain": [
       "'\\nThis is Multi Line comment\\nExample I hope you get it\\n'"
      ]
     },
     "execution_count": 13,
     "metadata": {},
     "output_type": "execute_result"
    }
   ],
   "source": [
    "\"\"\"\n",
    "This is Multi Line comment\n",
    "Example I hope you get it\n",
    "\"\"\""
   ]
  },
  {
   "cell_type": "code",
   "execution_count": 14,
   "id": "89e2bce2",
   "metadata": {},
   "outputs": [
    {
     "data": {
      "text/plain": [
       "'This is Multi Line comment\\nExample I hope you get it'"
      ]
     },
     "execution_count": 14,
     "metadata": {},
     "output_type": "execute_result"
    }
   ],
   "source": [
    "'''This is Multi Line comment\n",
    "Example I hope you get it'''"
   ]
  },
  {
   "cell_type": "markdown",
   "id": "a5fd4e99",
   "metadata": {},
   "source": [
    "# variable"
   ]
  },
  {
   "cell_type": "markdown",
   "id": "0035f116",
   "metadata": {},
   "source": [
    "I will create one variable names as a and store value as 10. And if i want to access that varible then i will print value of a.\n"
   ]
  },
  {
   "cell_type": "code",
   "execution_count": 17,
   "id": "7cdd9acc",
   "metadata": {},
   "outputs": [],
   "source": [
    "a=10"
   ]
  },
  {
   "cell_type": "markdown",
   "id": "28d34247",
   "metadata": {},
   "source": [
    "in a=10 ex. a is variable name and 10 is value stored in a. \n",
    "When any variable is declared then a space is reserved in RAM or main memory\n",
    "Variable Name is nothing but location name given by us. WHen u restart system then variable value is lost that is why it is called as tempory storage\n"
   ]
  },
  {
   "cell_type": "code",
   "execution_count": 1,
   "id": "3c498ca5",
   "metadata": {},
   "outputs": [],
   "source": [
    "#to check data type on varaibale"
   ]
  },
  {
   "cell_type": "code",
   "execution_count": 2,
   "id": "67452c7c",
   "metadata": {},
   "outputs": [],
   "source": [
    "a=10\n"
   ]
  },
  {
   "cell_type": "code",
   "execution_count": 3,
   "id": "e1290a85",
   "metadata": {},
   "outputs": [
    {
     "data": {
      "text/plain": [
       "int"
      ]
     },
     "execution_count": 3,
     "metadata": {},
     "output_type": "execute_result"
    }
   ],
   "source": [
    "type(a)"
   ]
  },
  {
   "cell_type": "code",
   "execution_count": 4,
   "id": "c485e7e8",
   "metadata": {},
   "outputs": [],
   "source": [
    "b=20"
   ]
  },
  {
   "cell_type": "code",
   "execution_count": 5,
   "id": "c52b7df8",
   "metadata": {},
   "outputs": [
    {
     "name": "stdout",
     "output_type": "stream",
     "text": [
      "10 20\n"
     ]
    }
   ],
   "source": [
    "print(a,b)"
   ]
  },
  {
   "cell_type": "code",
   "execution_count": 6,
   "id": "c8480b58",
   "metadata": {},
   "outputs": [
    {
     "name": "stdout",
     "output_type": "stream",
     "text": [
      "1 2 3 Ram\n"
     ]
    }
   ],
   "source": [
    "print(1,2,3,\"Ram\")"
   ]
  },
  {
   "cell_type": "code",
   "execution_count": 7,
   "id": "be6b6ebf",
   "metadata": {},
   "outputs": [],
   "source": [
    "a=45\n",
    "b=\"Laksya\""
   ]
  },
  {
   "cell_type": "markdown",
   "id": "6dbf740d",
   "metadata": {},
   "source": [
    "Declare multiple Variable in single line"
   ]
  },
  {
   "cell_type": "code",
   "execution_count": 8,
   "id": "b9cdd8fb",
   "metadata": {},
   "outputs": [],
   "source": [
    "a,b,c=10,20,\"Jai\""
   ]
  },
  {
   "cell_type": "code",
   "execution_count": 9,
   "id": "512cae02",
   "metadata": {},
   "outputs": [
    {
     "data": {
      "text/plain": [
       "10"
      ]
     },
     "execution_count": 9,
     "metadata": {},
     "output_type": "execute_result"
    }
   ],
   "source": [
    "a"
   ]
  },
  {
   "cell_type": "code",
   "execution_count": 10,
   "id": "e855b5e2",
   "metadata": {
    "scrolled": true
   },
   "outputs": [
    {
     "name": "stdout",
     "output_type": "stream",
     "text": [
      "10 20 Jai\n"
     ]
    }
   ],
   "source": [
    "print(a,b,c)"
   ]
  },
  {
   "cell_type": "code",
   "execution_count": 11,
   "id": "24960b28",
   "metadata": {},
   "outputs": [
    {
     "data": {
      "text/plain": [
       "int"
      ]
     },
     "execution_count": 11,
     "metadata": {},
     "output_type": "execute_result"
    }
   ],
   "source": [
    "type(a)"
   ]
  },
  {
   "cell_type": "code",
   "execution_count": 12,
   "id": "c4eb52ad",
   "metadata": {},
   "outputs": [
    {
     "data": {
      "text/plain": [
       "int"
      ]
     },
     "execution_count": 12,
     "metadata": {},
     "output_type": "execute_result"
    }
   ],
   "source": [
    "type(b)"
   ]
  },
  {
   "cell_type": "code",
   "execution_count": 13,
   "id": "6eeef814",
   "metadata": {},
   "outputs": [
    {
     "data": {
      "text/plain": [
       "str"
      ]
     },
     "execution_count": 13,
     "metadata": {},
     "output_type": "execute_result"
    }
   ],
   "source": [
    "type(c)"
   ]
  },
  {
   "cell_type": "code",
   "execution_count": 15,
   "id": "fd634efa",
   "metadata": {},
   "outputs": [],
   "source": [
    "n='string'"
   ]
  },
  {
   "cell_type": "code",
   "execution_count": 16,
   "id": "8ef075fd",
   "metadata": {},
   "outputs": [
    {
     "data": {
      "text/plain": [
       "str"
      ]
     },
     "execution_count": 16,
     "metadata": {},
     "output_type": "execute_result"
    }
   ],
   "source": [
    "type(n)"
   ]
  },
  {
   "cell_type": "markdown",
   "id": "5fe83ef1",
   "metadata": {},
   "source": [
    "invalid variable"
   ]
  },
  {
   "cell_type": "code",
   "execution_count": 17,
   "id": "c0cf0918",
   "metadata": {},
   "outputs": [],
   "source": [
    "#Variable name should not start with integer"
   ]
  },
  {
   "cell_type": "code",
   "execution_count": 18,
   "id": "7eb70b4a",
   "metadata": {},
   "outputs": [
    {
     "ename": "SyntaxError",
     "evalue": "invalid syntax (<ipython-input-18-442bddfef1a1>, line 1)",
     "output_type": "error",
     "traceback": [
      "\u001b[1;36m  File \u001b[1;32m\"<ipython-input-18-442bddfef1a1>\"\u001b[1;36m, line \u001b[1;32m1\u001b[0m\n\u001b[1;33m    1a=10\u001b[0m\n\u001b[1;37m     ^\u001b[0m\n\u001b[1;31mSyntaxError\u001b[0m\u001b[1;31m:\u001b[0m invalid syntax\n"
     ]
    }
   ],
   "source": [
    "1a=10"
   ]
  },
  {
   "cell_type": "code",
   "execution_count": 19,
   "id": "eafa7f6e",
   "metadata": {},
   "outputs": [
    {
     "ename": "SyntaxError",
     "evalue": "invalid syntax (<ipython-input-19-800f478811c3>, line 1)",
     "output_type": "error",
     "traceback": [
      "\u001b[1;36m  File \u001b[1;32m\"<ipython-input-19-800f478811c3>\"\u001b[1;36m, line \u001b[1;32m1\u001b[0m\n\u001b[1;33m    b$=10\u001b[0m\n\u001b[1;37m     ^\u001b[0m\n\u001b[1;31mSyntaxError\u001b[0m\u001b[1;31m:\u001b[0m invalid syntax\n"
     ]
    }
   ],
   "source": [
    "b$=10"
   ]
  },
  {
   "cell_type": "markdown",
   "id": "2288edf5",
   "metadata": {},
   "source": [
    "# Boolean Variable"
   ]
  },
  {
   "cell_type": "code",
   "execution_count": 21,
   "id": "a2d4f944",
   "metadata": {},
   "outputs": [],
   "source": [
    "a=True"
   ]
  },
  {
   "cell_type": "code",
   "execution_count": 22,
   "id": "7b9e71b7",
   "metadata": {},
   "outputs": [],
   "source": [
    "b=True"
   ]
  },
  {
   "cell_type": "code",
   "execution_count": 23,
   "id": "b0d96d0c",
   "metadata": {},
   "outputs": [
    {
     "data": {
      "text/plain": [
       "2"
      ]
     },
     "execution_count": 23,
     "metadata": {},
     "output_type": "execute_result"
    }
   ],
   "source": [
    "a+b"
   ]
  },
  {
   "cell_type": "code",
   "execution_count": 24,
   "id": "b414a266",
   "metadata": {},
   "outputs": [
    {
     "data": {
      "text/plain": [
       "bool"
      ]
     },
     "execution_count": 24,
     "metadata": {},
     "output_type": "execute_result"
    }
   ],
   "source": [
    "type(a)"
   ]
  },
  {
   "cell_type": "code",
   "execution_count": 25,
   "id": "d6bde01a",
   "metadata": {},
   "outputs": [
    {
     "ename": "NameError",
     "evalue": "name 'true' is not defined",
     "output_type": "error",
     "traceback": [
      "\u001b[1;31m---------------------------------------------------------------------------\u001b[0m",
      "\u001b[1;31mNameError\u001b[0m                                 Traceback (most recent call last)",
      "\u001b[1;32m<ipython-input-25-afc138306814>\u001b[0m in \u001b[0;36m<module>\u001b[1;34m\u001b[0m\n\u001b[0;32m      1\u001b[0m \u001b[1;31m#bool is case sensitive\u001b[0m\u001b[1;33m\u001b[0m\u001b[1;33m\u001b[0m\u001b[1;33m\u001b[0m\u001b[0m\n\u001b[1;32m----> 2\u001b[1;33m \u001b[0ma\u001b[0m\u001b[1;33m=\u001b[0m\u001b[0mtrue\u001b[0m\u001b[1;33m\u001b[0m\u001b[1;33m\u001b[0m\u001b[0m\n\u001b[0m",
      "\u001b[1;31mNameError\u001b[0m: name 'true' is not defined"
     ]
    }
   ],
   "source": [
    "#bool is case sensitive\n",
    "a=true"
   ]
  },
  {
   "cell_type": "code",
   "execution_count": 26,
   "id": "55cb1183",
   "metadata": {},
   "outputs": [
    {
     "data": {
      "text/plain": [
       "4"
      ]
     },
     "execution_count": 26,
     "metadata": {},
     "output_type": "execute_result"
    }
   ],
   "source": [
    "True+True+True+False+True"
   ]
  },
  {
   "cell_type": "code",
   "execution_count": 28,
   "id": "8ed5195f",
   "metadata": {},
   "outputs": [
    {
     "data": {
      "text/plain": [
       "0"
      ]
     },
     "execution_count": 28,
     "metadata": {},
     "output_type": "execute_result"
    }
   ],
   "source": [
    "False-True+True"
   ]
  },
  {
   "cell_type": "code",
   "execution_count": 29,
   "id": "5e8403c0",
   "metadata": {},
   "outputs": [],
   "source": [
    "#True value is 1 and False is 0\n"
   ]
  },
  {
   "cell_type": "code",
   "execution_count": 31,
   "id": "9e09d16b",
   "metadata": {},
   "outputs": [
    {
     "ename": "ZeroDivisionError",
     "evalue": "division by zero",
     "output_type": "error",
     "traceback": [
      "\u001b[1;31m---------------------------------------------------------------------------\u001b[0m",
      "\u001b[1;31mZeroDivisionError\u001b[0m                         Traceback (most recent call last)",
      "\u001b[1;32m<ipython-input-31-8dd4ec375974>\u001b[0m in \u001b[0;36m<module>\u001b[1;34m\u001b[0m\n\u001b[0;32m      1\u001b[0m \u001b[1;31m#1/0\u001b[0m\u001b[1;33m\u001b[0m\u001b[1;33m\u001b[0m\u001b[1;33m\u001b[0m\u001b[0m\n\u001b[1;32m----> 2\u001b[1;33m \u001b[1;32mTrue\u001b[0m\u001b[1;33m/\u001b[0m\u001b[1;32mFalse\u001b[0m\u001b[1;33m\u001b[0m\u001b[1;33m\u001b[0m\u001b[0m\n\u001b[0m",
      "\u001b[1;31mZeroDivisionError\u001b[0m: division by zero"
     ]
    }
   ],
   "source": [
    "#1/0\n",
    "True/False"
   ]
  },
  {
   "cell_type": "code",
   "execution_count": 32,
   "id": "fc19f88e",
   "metadata": {},
   "outputs": [],
   "source": [
    "n=10+10j"
   ]
  },
  {
   "cell_type": "code",
   "execution_count": 33,
   "id": "5c3edea1",
   "metadata": {},
   "outputs": [
    {
     "data": {
      "text/plain": [
       "complex"
      ]
     },
     "execution_count": 33,
     "metadata": {},
     "output_type": "execute_result"
    }
   ],
   "source": [
    "type(n)"
   ]
  },
  {
   "cell_type": "code",
   "execution_count": 36,
   "id": "b7dfc935",
   "metadata": {},
   "outputs": [
    {
     "data": {
      "text/plain": [
       "10.0"
      ]
     },
     "execution_count": 36,
     "metadata": {},
     "output_type": "execute_result"
    }
   ],
   "source": [
    "n.real"
   ]
  },
  {
   "cell_type": "code",
   "execution_count": 37,
   "id": "35069c2d",
   "metadata": {},
   "outputs": [
    {
     "data": {
      "text/plain": [
       "10.0"
      ]
     },
     "execution_count": 37,
     "metadata": {},
     "output_type": "execute_result"
    }
   ],
   "source": [
    "n.imag"
   ]
  },
  {
   "cell_type": "code",
   "execution_count": 38,
   "id": "430491e1",
   "metadata": {},
   "outputs": [
    {
     "data": {
      "text/plain": [
       "10.0"
      ]
     },
     "execution_count": 38,
     "metadata": {},
     "output_type": "execute_result"
    }
   ],
   "source": [
    "n.imag"
   ]
  },
  {
   "cell_type": "code",
   "execution_count": 39,
   "id": "5b750ac5",
   "metadata": {},
   "outputs": [
    {
     "data": {
      "text/plain": [
       "(10+10j)"
      ]
     },
     "execution_count": 39,
     "metadata": {},
     "output_type": "execute_result"
    }
   ],
   "source": [
    "n"
   ]
  },
  {
   "cell_type": "markdown",
   "id": "b807fa7e",
   "metadata": {},
   "source": [
    "Addition"
   ]
  },
  {
   "cell_type": "code",
   "execution_count": 41,
   "id": "ece13d02",
   "metadata": {},
   "outputs": [
    {
     "ename": "TypeError",
     "evalue": "unsupported operand type(s) for +: 'int' and 'str'",
     "output_type": "error",
     "traceback": [
      "\u001b[1;31m---------------------------------------------------------------------------\u001b[0m",
      "\u001b[1;31mTypeError\u001b[0m                                 Traceback (most recent call last)",
      "\u001b[1;32m<ipython-input-41-854aa22f3064>\u001b[0m in \u001b[0;36m<module>\u001b[1;34m\u001b[0m\n\u001b[0;32m      1\u001b[0m \u001b[1;31m#You can not add hertrogenous data type\u001b[0m\u001b[1;33m\u001b[0m\u001b[1;33m\u001b[0m\u001b[1;33m\u001b[0m\u001b[0m\n\u001b[1;32m----> 2\u001b[1;33m \u001b[1;36m1\u001b[0m\u001b[1;33m+\u001b[0m\u001b[1;34m'Lion'\u001b[0m\u001b[1;33m\u001b[0m\u001b[1;33m\u001b[0m\u001b[0m\n\u001b[0m",
      "\u001b[1;31mTypeError\u001b[0m: unsupported operand type(s) for +: 'int' and 'str'"
     ]
    }
   ],
   "source": [
    "#You can not add hertrogenous data type\n",
    "1+'Lion'"
   ]
  },
  {
   "cell_type": "code",
   "execution_count": 42,
   "id": "74fcdfe4",
   "metadata": {},
   "outputs": [
    {
     "data": {
      "text/plain": [
       "2"
      ]
     },
     "execution_count": 42,
     "metadata": {},
     "output_type": "execute_result"
    }
   ],
   "source": [
    "1+1"
   ]
  },
  {
   "cell_type": "code",
   "execution_count": 43,
   "id": "b7d40935",
   "metadata": {},
   "outputs": [
    {
     "data": {
      "text/plain": [
       "'HelloLion'"
      ]
     },
     "execution_count": 43,
     "metadata": {},
     "output_type": "execute_result"
    }
   ],
   "source": [
    "\"Hello\"+\"Lion\""
   ]
  },
  {
   "cell_type": "code",
   "execution_count": 44,
   "id": "67b8c1b6",
   "metadata": {},
   "outputs": [
    {
     "data": {
      "text/plain": [
       "'1Lion'"
      ]
     },
     "execution_count": 44,
     "metadata": {},
     "output_type": "execute_result"
    }
   ],
   "source": [
    "\"1\"+\"Lion\""
   ]
  },
  {
   "cell_type": "code",
   "execution_count": 45,
   "id": "1deb79c5",
   "metadata": {},
   "outputs": [
    {
     "data": {
      "text/plain": [
       "'1Lion'"
      ]
     },
     "execution_count": 45,
     "metadata": {},
     "output_type": "execute_result"
    }
   ],
   "source": [
    "str(1)+\"Lion\""
   ]
  },
  {
   "cell_type": "markdown",
   "id": "4a6ea3b7",
   "metadata": {},
   "source": [
    "This is strong typing"
   ]
  },
  {
   "cell_type": "code",
   "execution_count": 49,
   "id": "7d37d07b",
   "metadata": {},
   "outputs": [
    {
     "data": {
      "text/plain": [
       "2.0"
      ]
     },
     "execution_count": 49,
     "metadata": {},
     "output_type": "execute_result"
    }
   ],
   "source": [
    "#Floating Point take more data comapre to integer(Upcasting)\n",
    "1+1.0"
   ]
  },
  {
   "cell_type": "code",
   "execution_count": 50,
   "id": "d68947a9",
   "metadata": {},
   "outputs": [
    {
     "ename": "TypeError",
     "evalue": "unsupported operand type(s) for /: 'str' and 'int'",
     "output_type": "error",
     "traceback": [
      "\u001b[1;31m---------------------------------------------------------------------------\u001b[0m",
      "\u001b[1;31mTypeError\u001b[0m                                 Traceback (most recent call last)",
      "\u001b[1;32m<ipython-input-50-f6b1386b5c82>\u001b[0m in \u001b[0;36m<module>\u001b[1;34m\u001b[0m\n\u001b[1;32m----> 1\u001b[1;33m \u001b[1;34m\"Hello\"\u001b[0m\u001b[1;33m/\u001b[0m\u001b[1;36m3\u001b[0m\u001b[1;33m\u001b[0m\u001b[1;33m\u001b[0m\u001b[0m\n\u001b[0m",
      "\u001b[1;31mTypeError\u001b[0m: unsupported operand type(s) for /: 'str' and 'int'"
     ]
    }
   ],
   "source": [
    "\"Hello\"/3"
   ]
  },
  {
   "cell_type": "code",
   "execution_count": 51,
   "id": "98598d63",
   "metadata": {},
   "outputs": [
    {
     "ename": "TypeError",
     "evalue": "unsupported operand type(s) for -: 'str' and 'str'",
     "output_type": "error",
     "traceback": [
      "\u001b[1;31m---------------------------------------------------------------------------\u001b[0m",
      "\u001b[1;31mTypeError\u001b[0m                                 Traceback (most recent call last)",
      "\u001b[1;32m<ipython-input-51-447e24596d89>\u001b[0m in \u001b[0;36m<module>\u001b[1;34m\u001b[0m\n\u001b[1;32m----> 1\u001b[1;33m \u001b[1;34m\"hello\"\u001b[0m\u001b[1;33m-\u001b[0m\u001b[1;34m\"Hello\"\u001b[0m\u001b[1;33m\u001b[0m\u001b[1;33m\u001b[0m\u001b[0m\n\u001b[0m",
      "\u001b[1;31mTypeError\u001b[0m: unsupported operand type(s) for -: 'str' and 'str'"
     ]
    }
   ],
   "source": [
    "\"hello\"-\"Hello\""
   ]
  },
  {
   "cell_type": "markdown",
   "id": "a2a8fef5",
   "metadata": {},
   "source": [
    "Take input from user"
   ]
  },
  {
   "cell_type": "code",
   "execution_count": 53,
   "id": "e05ac130",
   "metadata": {},
   "outputs": [
    {
     "name": "stdout",
     "output_type": "stream",
     "text": [
      "Enter:a\n"
     ]
    }
   ],
   "source": [
    "a=input(\"Enter:\")"
   ]
  },
  {
   "cell_type": "code",
   "execution_count": 2,
   "id": "c21b7e1c",
   "metadata": {},
   "outputs": [
    {
     "name": "stdout",
     "output_type": "stream",
     "text": [
      "This is variable a:345\n"
     ]
    }
   ],
   "source": [
    "a=input(\"This is variable a:\")"
   ]
  },
  {
   "cell_type": "code",
   "execution_count": null,
   "id": "646c3955",
   "metadata": {},
   "outputs": [],
   "source": []
  },
  {
   "cell_type": "code",
   "execution_count": 4,
   "id": "c37efc85",
   "metadata": {},
   "outputs": [
    {
     "ename": "TypeError",
     "evalue": "can only concatenate str (not \"int\") to str",
     "output_type": "error",
     "traceback": [
      "\u001b[1;31m---------------------------------------------------------------------------\u001b[0m",
      "\u001b[1;31mTypeError\u001b[0m                                 Traceback (most recent call last)",
      "\u001b[1;32m<ipython-input-4-b82349ea63d1>\u001b[0m in \u001b[0;36m<module>\u001b[1;34m\u001b[0m\n\u001b[0;32m      1\u001b[0m \u001b[1;31m#get error because a is acting as string then you are receivig an error\u001b[0m\u001b[1;33m\u001b[0m\u001b[1;33m\u001b[0m\u001b[1;33m\u001b[0m\u001b[0m\n\u001b[1;32m----> 2\u001b[1;33m \u001b[0ma\u001b[0m\u001b[1;33m+\u001b[0m\u001b[1;36m34\u001b[0m\u001b[1;33m\u001b[0m\u001b[1;33m\u001b[0m\u001b[0m\n\u001b[0m",
      "\u001b[1;31mTypeError\u001b[0m: can only concatenate str (not \"int\") to str"
     ]
    }
   ],
   "source": [
    "#get error because a is acting as string then you are receivig an error\n",
    "a+34"
   ]
  },
  {
   "cell_type": "code",
   "execution_count": 5,
   "id": "0e57f68d",
   "metadata": {},
   "outputs": [
    {
     "name": "stdout",
     "output_type": "stream",
     "text": [
      "This is variable a:23\n"
     ]
    },
    {
     "ename": "TypeError",
     "evalue": "'a' is an invalid keyword argument for int()",
     "output_type": "error",
     "traceback": [
      "\u001b[1;31m---------------------------------------------------------------------------\u001b[0m",
      "\u001b[1;31mTypeError\u001b[0m                                 Traceback (most recent call last)",
      "\u001b[1;32m<ipython-input-5-7a08686d00c8>\u001b[0m in \u001b[0;36m<module>\u001b[1;34m\u001b[0m\n\u001b[0;32m      1\u001b[0m \u001b[1;31m#resolve issue\u001b[0m\u001b[1;33m\u001b[0m\u001b[1;33m\u001b[0m\u001b[1;33m\u001b[0m\u001b[0m\n\u001b[1;32m----> 2\u001b[1;33m \u001b[0mint\u001b[0m\u001b[1;33m(\u001b[0m\u001b[0ma\u001b[0m\u001b[1;33m=\u001b[0m\u001b[0minput\u001b[0m\u001b[1;33m(\u001b[0m\u001b[1;34m\"This is variable a:\"\u001b[0m\u001b[1;33m)\u001b[0m\u001b[1;33m)\u001b[0m\u001b[1;33m\u001b[0m\u001b[1;33m\u001b[0m\u001b[0m\n\u001b[0m",
      "\u001b[1;31mTypeError\u001b[0m: 'a' is an invalid keyword argument for int()"
     ]
    }
   ],
   "source": [
    "#resolve issue\n",
    "int(a=input(\"This is variable a:\"))"
   ]
  },
  {
   "cell_type": "code",
   "execution_count": null,
   "id": "95e0cc2e",
   "metadata": {},
   "outputs": [],
   "source": [
    "a=input(\"This is variable a:\")"
   ]
  },
  {
   "cell_type": "code",
   "execution_count": null,
   "id": "b95fff7b",
   "metadata": {},
   "outputs": [],
   "source": [
    "a=int(input(\"This is variable a:\"))\n",
    "b=int(input(\"2nd var\"))\n",
    "c=int(input(\"3rd var\"))"
   ]
  },
  {
   "cell_type": "code",
   "execution_count": null,
   "id": "5dcc6690",
   "metadata": {},
   "outputs": [],
   "source": [
    "a,b,c"
   ]
  },
  {
   "cell_type": "code",
   "execution_count": 1,
   "id": "742fe0ba",
   "metadata": {},
   "outputs": [
    {
     "name": "stdout",
     "output_type": "stream",
     "text": [
      "This is variable a:21\n",
      "2nd var32\n",
      "3rd var5\n"
     ]
    }
   ],
   "source": [
    "a=int(input(\"This is variable a:\"))\n",
    "b=int(input(\"2nd var\"))\n",
    "c=int(input(\"3rd var\"))"
   ]
  },
  {
   "cell_type": "code",
   "execution_count": 2,
   "id": "5192b428",
   "metadata": {},
   "outputs": [
    {
     "data": {
      "text/plain": [
       "(21, 32, 5)"
      ]
     },
     "execution_count": 2,
     "metadata": {},
     "output_type": "execute_result"
    }
   ],
   "source": [
    "a,b,c\n"
   ]
  },
  {
   "cell_type": "code",
   "execution_count": 3,
   "id": "bf653d9d",
   "metadata": {},
   "outputs": [],
   "source": [
    "o1=a+b+c"
   ]
  },
  {
   "cell_type": "code",
   "execution_count": 4,
   "id": "6fa4cbdf",
   "metadata": {},
   "outputs": [
    {
     "data": {
      "text/plain": [
       "58"
      ]
     },
     "execution_count": 4,
     "metadata": {},
     "output_type": "execute_result"
    }
   ],
   "source": [
    "o1"
   ]
  },
  {
   "cell_type": "markdown",
   "id": "8f4772d5",
   "metadata": {},
   "source": [
    "# Conditional Statement"
   ]
  },
  {
   "cell_type": "code",
   "execution_count": 5,
   "id": "e0b217c3",
   "metadata": {},
   "outputs": [
    {
     "name": "stdout",
     "output_type": "stream",
     "text": [
      "Enter number lesser than 34:43\n"
     ]
    }
   ],
   "source": [
    "a=int(input(\"Enter number lesser than 34:\"))"
   ]
  },
  {
   "cell_type": "code",
   "execution_count": 6,
   "id": "0a4b411c",
   "metadata": {},
   "outputs": [
    {
     "name": "stdout",
     "output_type": "stream",
     "text": [
      "Enter number lesser than 34:54\n",
      "Sorry, Please try again !\n"
     ]
    }
   ],
   "source": [
    "a=int(input(\"Enter number lesser than 34:\"))\n",
    "if a<34:\n",
    "    print(\"Data is less than 34, Cogragulations !\")\n",
    "else:\n",
    "    print(\"Sorry, Please try again !\")"
   ]
  },
  {
   "cell_type": "code",
   "execution_count": 7,
   "id": "ae4e8736",
   "metadata": {},
   "outputs": [],
   "source": [
    "if 34<76:\n",
    "    pass"
   ]
  },
  {
   "cell_type": "code",
   "execution_count": 8,
   "id": "0fe95cd4",
   "metadata": {},
   "outputs": [],
   "source": [
    "if 54<21:\n",
    "    pass"
   ]
  },
  {
   "cell_type": "code",
   "execution_count": 9,
   "id": "2d648280",
   "metadata": {},
   "outputs": [
    {
     "ename": "IndentationError",
     "evalue": "expected an indented block (<ipython-input-9-bc8fc57f4891>, line 3)",
     "output_type": "error",
     "traceback": [
      "\u001b[1;36m  File \u001b[1;32m\"<ipython-input-9-bc8fc57f4891>\"\u001b[1;36m, line \u001b[1;32m3\u001b[0m\n\u001b[1;33m    print(\"Data is less than 34, Cogragulations !\")\u001b[0m\n\u001b[1;37m    ^\u001b[0m\n\u001b[1;31mIndentationError\u001b[0m\u001b[1;31m:\u001b[0m expected an indented block\n"
     ]
    }
   ],
   "source": [
    "a=int(input(\"Enter number lesser than 34:\"))\n",
    "if a<34:\n",
    "print(\"Data is less than 34, Cogragulations !\")"
   ]
  },
  {
   "cell_type": "code",
   "execution_count": 10,
   "id": "cbfccd2a",
   "metadata": {},
   "outputs": [
    {
     "name": "stdout",
     "output_type": "stream",
     "text": [
      "Enter number lesser than 34:67\n",
      "Data is less than 34, Cogragulations !\n"
     ]
    }
   ],
   "source": [
    "a=int(input(\"Enter number lesser than 34:\"))\n",
    "if a<34:\n",
    "    pass\n",
    "\n",
    "print(\"Data is less than 34, Cogragulations !\")"
   ]
  },
  {
   "cell_type": "code",
   "execution_count": 11,
   "id": "0b7efeaf",
   "metadata": {},
   "outputs": [
    {
     "name": "stdout",
     "output_type": "stream",
     "text": [
      "Enter number lesser than 34:23\n",
      "No. is lesser than 80\n"
     ]
    }
   ],
   "source": [
    "#Nested If else\n",
    "a=int(input(\"Enter number lesser than 34:\"))\n",
    "if a<80:\n",
    "    print(\"No. is lesser than 80\")\n",
    "elif a<40:\n",
    "    print(\"No is lesser than 40\")\n",
    "else :\n",
    "    print(\"Please enter number within an range\")"
   ]
  },
  {
   "cell_type": "code",
   "execution_count": null,
   "id": "61be692f",
   "metadata": {},
   "outputs": [],
   "source": []
  },
  {
   "cell_type": "code",
   "execution_count": 15,
   "id": "a6e740ae",
   "metadata": {},
   "outputs": [
    {
     "name": "stdout",
     "output_type": "stream",
     "text": [
      "Enter your salary:87000\n",
      "Buy car:\n"
     ]
    }
   ],
   "source": [
    "salary=int(input(\"Enter your salary:\"))\n",
    "if salary<100000:\n",
    "    print(\"Buy car:\")\n",
    "elif salary<50000:\n",
    "    print(\"Buy Bike:\")\n",
    "elif salary<30000:\n",
    "    print(\"Buy Oneplus phone\")\n",
    "else:\n",
    "    print(\"Stay Home, Stay Safe\")"
   ]
  },
  {
   "cell_type": "code",
   "execution_count": 16,
   "id": "cb891773",
   "metadata": {},
   "outputs": [
    {
     "name": "stdout",
     "output_type": "stream",
     "text": [
      "Enter your salary:870000\n",
      "Buy car:\n"
     ]
    }
   ],
   "source": [
    "salary=int(input(\"Enter your salary:\"))\n",
    "if salary>100000:\n",
    "    print(\"Buy car:\")\n",
    "elif salary>50000:\n",
    "    print(\"Buy Bike:\")\n",
    "elif salary>30000:\n",
    "    print(\"Buy Oneplus phone\")\n",
    "else:\n",
    "    print(\"Stay Home, Stay Safe\")"
   ]
  },
  {
   "cell_type": "code",
   "execution_count": 17,
   "id": "9ddd7d1f",
   "metadata": {},
   "outputs": [
    {
     "name": "stdout",
     "output_type": "stream",
     "text": [
      "Enter your salary:90000000\n",
      "Buy car:\n",
      "Damm, You are Rich\n"
     ]
    }
   ],
   "source": [
    "salary=int(input(\"Enter your salary:\"))\n",
    "if salary>100000:\n",
    "    print(\"Buy car:\")\n",
    "    if salary > 500000:\n",
    "        print(\"Damm, You are Rich\")\n",
    "elif salary>50000:\n",
    "    print(\"Buy Bike:\")\n",
    "elif salary>30000:\n",
    "    print(\"Buy Oneplus phone\")\n",
    "else:\n",
    "    print(\"Stay Home, Stay Safe\")"
   ]
  },
  {
   "cell_type": "code",
   "execution_count": 18,
   "id": "391b47b1",
   "metadata": {},
   "outputs": [
    {
     "name": "stdout",
     "output_type": "stream",
     "text": [
      "Enter your salary:9000000000000\n",
      "Buy car:\n",
      "Damm, You are Rich\n"
     ]
    }
   ],
   "source": [
    "salary=int(input(\"Enter your salary:\"))\n",
    "if salary>100000:\n",
    "    print(\"Buy car:\")\n",
    "    if salary > 500000:\n",
    "        print(\"Damm, You are Rich\")\n",
    "        if salary<9000000000:\n",
    "            print(\"false\")\n",
    "    elif salary >800000:\n",
    "        print(\"any text\")\n",
    "    else:\n",
    "        print(\"any text\")\n",
    "elif salary>50000:\n",
    "    print(\"Buy Bike:\")\n",
    "elif salary>30000:\n",
    "    print(\"Buy Oneplus phone\")\n",
    "else:\n",
    "    print(\"Stay Home, Stay Safe\")"
   ]
  },
  {
   "cell_type": "code",
   "execution_count": 19,
   "id": "5e4f1579",
   "metadata": {},
   "outputs": [
    {
     "data": {
      "text/plain": [
       "True"
      ]
     },
     "execution_count": 19,
     "metadata": {},
     "output_type": "execute_result"
    }
   ],
   "source": [
    "100000>899"
   ]
  },
  {
   "cell_type": "code",
   "execution_count": null,
   "id": "5029bcdf",
   "metadata": {},
   "outputs": [],
   "source": []
  },
  {
   "cell_type": "code",
   "execution_count": null,
   "id": "67bbc513",
   "metadata": {},
   "outputs": [],
   "source": []
  }
 ],
 "metadata": {
  "kernelspec": {
   "display_name": "Python 3",
   "language": "python",
   "name": "python3"
  },
  "language_info": {
   "codemirror_mode": {
    "name": "ipython",
    "version": 3
   },
   "file_extension": ".py",
   "mimetype": "text/x-python",
   "name": "python",
   "nbconvert_exporter": "python",
   "pygments_lexer": "ipython3",
   "version": "3.8.8"
  }
 },
 "nbformat": 4,
 "nbformat_minor": 5
}
