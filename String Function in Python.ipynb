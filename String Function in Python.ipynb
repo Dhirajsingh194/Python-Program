{
 "cells": [
  {
   "cell_type": "code",
   "execution_count": 43,
   "id": "24244339",
   "metadata": {},
   "outputs": [],
   "source": [
    "a=\"Indian Research Center\""
   ]
  },
  {
   "cell_type": "code",
   "execution_count": 44,
   "id": "24e0eda6",
   "metadata": {},
   "outputs": [
    {
     "name": "stdout",
     "output_type": "stream",
     "text": [
      "Indian research center\n"
     ]
    }
   ],
   "source": [
    "print(a.capitalize())"
   ]
  },
  {
   "cell_type": "code",
   "execution_count": 45,
   "id": "c850f220",
   "metadata": {},
   "outputs": [
    {
     "name": "stdout",
     "output_type": "stream",
     "text": [
      "indian research center\n"
     ]
    }
   ],
   "source": [
    "print(a.casefold())"
   ]
  },
  {
   "cell_type": "code",
   "execution_count": 46,
   "id": "754168cb",
   "metadata": {},
   "outputs": [
    {
     "name": "stdout",
     "output_type": "stream",
     "text": [
      "Indian Research Center\n"
     ]
    }
   ],
   "source": [
    "print(a.center(10))"
   ]
  },
  {
   "cell_type": "code",
   "execution_count": 47,
   "id": "6403abe1",
   "metadata": {},
   "outputs": [
    {
     "name": "stdout",
     "output_type": "stream",
     "text": [
      "1\n"
     ]
    }
   ],
   "source": [
    "print(a.count('i'))"
   ]
  },
  {
   "cell_type": "code",
   "execution_count": 48,
   "id": "b5e16ad7",
   "metadata": {},
   "outputs": [
    {
     "name": "stdout",
     "output_type": "stream",
     "text": [
      "Indian Research Center\n"
     ]
    }
   ],
   "source": [
    "print(a.expandtabs())\n"
   ]
  },
  {
   "cell_type": "code",
   "execution_count": 49,
   "id": "ead41c35",
   "metadata": {},
   "outputs": [
    {
     "name": "stdout",
     "output_type": "stream",
     "text": [
      "0\n"
     ]
    }
   ],
   "source": [
    "print(a.index('I'))"
   ]
  },
  {
   "cell_type": "code",
   "execution_count": 50,
   "id": "20d31c88",
   "metadata": {},
   "outputs": [
    {
     "name": "stdout",
     "output_type": "stream",
     "text": [
      "Indian Research Center\n"
     ]
    }
   ],
   "source": [
    "print(a.format())"
   ]
  },
  {
   "cell_type": "code",
   "execution_count": 51,
   "id": "b0749554",
   "metadata": {},
   "outputs": [
    {
     "name": "stdout",
     "output_type": "stream",
     "text": [
      "Indian Research Center\n"
     ]
    }
   ],
   "source": [
    "print(a.format_map('A'))"
   ]
  },
  {
   "cell_type": "code",
   "execution_count": 52,
   "id": "4c233f42",
   "metadata": {},
   "outputs": [
    {
     "name": "stdout",
     "output_type": "stream",
     "text": [
      "False\n"
     ]
    }
   ],
   "source": [
    "print(a.isalnum())"
   ]
  },
  {
   "cell_type": "code",
   "execution_count": 53,
   "id": "bc994641",
   "metadata": {},
   "outputs": [
    {
     "name": "stdout",
     "output_type": "stream",
     "text": [
      "b'Indian Research Center'\n"
     ]
    }
   ],
   "source": [
    "print(a.encode())"
   ]
  },
  {
   "cell_type": "code",
   "execution_count": 54,
   "id": "3a331c9d",
   "metadata": {},
   "outputs": [
    {
     "name": "stdout",
     "output_type": "stream",
     "text": [
      "-1\n"
     ]
    }
   ],
   "source": [
    "print(a.find('A'))"
   ]
  },
  {
   "cell_type": "code",
   "execution_count": 55,
   "id": "76bd5f7a",
   "metadata": {},
   "outputs": [
    {
     "name": "stdout",
     "output_type": "stream",
     "text": [
      "False\n"
     ]
    }
   ],
   "source": [
    "print(a.endswith('C'))"
   ]
  },
  {
   "cell_type": "code",
   "execution_count": 56,
   "id": "a8556b8f",
   "metadata": {},
   "outputs": [
    {
     "name": "stdout",
     "output_type": "stream",
     "text": [
      "False\n"
     ]
    }
   ],
   "source": [
    "print(a.isalpha())"
   ]
  },
  {
   "cell_type": "code",
   "execution_count": 57,
   "id": "a1faf918",
   "metadata": {},
   "outputs": [
    {
     "name": "stdout",
     "output_type": "stream",
     "text": [
      "False\n"
     ]
    }
   ],
   "source": [
    "print(a.isdecimal())"
   ]
  },
  {
   "cell_type": "code",
   "execution_count": 58,
   "id": "d312fcc8",
   "metadata": {},
   "outputs": [
    {
     "name": "stdout",
     "output_type": "stream",
     "text": [
      "False\n"
     ]
    }
   ],
   "source": [
    "print(a.isdigit())"
   ]
  },
  {
   "cell_type": "code",
   "execution_count": 59,
   "id": "5bd2841f",
   "metadata": {},
   "outputs": [
    {
     "name": "stdout",
     "output_type": "stream",
     "text": [
      "False\n"
     ]
    }
   ],
   "source": [
    "print(a.isidentifier())"
   ]
  },
  {
   "cell_type": "code",
   "execution_count": 60,
   "id": "19fa9c79",
   "metadata": {},
   "outputs": [
    {
     "name": "stdout",
     "output_type": "stream",
     "text": [
      "False\n"
     ]
    }
   ],
   "source": [
    "print(a.isnumeric())"
   ]
  },
  {
   "cell_type": "code",
   "execution_count": 61,
   "id": "a8d1877e",
   "metadata": {},
   "outputs": [
    {
     "name": "stdout",
     "output_type": "stream",
     "text": [
      "False\n"
     ]
    }
   ],
   "source": [
    "print(a.islower())"
   ]
  },
  {
   "cell_type": "code",
   "execution_count": 62,
   "id": "f9e663e8",
   "metadata": {},
   "outputs": [
    {
     "name": "stdout",
     "output_type": "stream",
     "text": [
      "False\n"
     ]
    }
   ],
   "source": [
    "print(a.isspace())"
   ]
  },
  {
   "cell_type": "code",
   "execution_count": 63,
   "id": "f8eeff9f",
   "metadata": {},
   "outputs": [
    {
     "name": "stdout",
     "output_type": "stream",
     "text": [
      "True\n"
     ]
    }
   ],
   "source": [
    "print(a.isprintable())\n"
   ]
  },
  {
   "cell_type": "code",
   "execution_count": 64,
   "id": "b46d0086",
   "metadata": {},
   "outputs": [
    {
     "name": "stdout",
     "output_type": "stream",
     "text": [
      "False\n"
     ]
    }
   ],
   "source": [
    "print(a.isupper())"
   ]
  },
  {
   "cell_type": "code",
   "execution_count": 65,
   "id": "5e304ca5",
   "metadata": {},
   "outputs": [
    {
     "name": "stdout",
     "output_type": "stream",
     "text": [
      "True\n"
     ]
    }
   ],
   "source": [
    "print(a.istitle())"
   ]
  },
  {
   "cell_type": "code",
   "execution_count": 66,
   "id": "6ca05f55",
   "metadata": {},
   "outputs": [
    {
     "name": "stdout",
     "output_type": "stream",
     "text": [
      "SIndian Research CenteriIndian Research CenternIndian Research CentergIndian Research Centerh\n"
     ]
    }
   ],
   "source": [
    "print(a.join(\"Singh\"))"
   ]
  },
  {
   "cell_type": "code",
   "execution_count": 67,
   "id": "5bcfc03d",
   "metadata": {},
   "outputs": [
    {
     "name": "stdout",
     "output_type": "stream",
     "text": [
      "Indian Research Center\n"
     ]
    }
   ],
   "source": [
    "print(a.ljust(5))"
   ]
  },
  {
   "cell_type": "code",
   "execution_count": 68,
   "id": "6ff194f4",
   "metadata": {},
   "outputs": [
    {
     "name": "stdout",
     "output_type": "stream",
     "text": [
      "indian research center\n"
     ]
    }
   ],
   "source": [
    "print(a.lower())"
   ]
  },
  {
   "cell_type": "code",
   "execution_count": 69,
   "id": "f5866dc8",
   "metadata": {},
   "outputs": [
    {
     "name": "stdout",
     "output_type": "stream",
     "text": [
      "Indian Research Center\n"
     ]
    }
   ],
   "source": [
    "print(a.lstrip())"
   ]
  },
  {
   "cell_type": "code",
   "execution_count": 70,
   "id": "b8d96ea6",
   "metadata": {},
   "outputs": [
    {
     "name": "stdout",
     "output_type": "stream",
     "text": [
      "Andian Research Center\n"
     ]
    }
   ],
   "source": [
    "print(a.replace('I','A'))"
   ]
  },
  {
   "cell_type": "code",
   "execution_count": 71,
   "id": "d8bf84df",
   "metadata": {},
   "outputs": [
    {
     "name": "stdout",
     "output_type": "stream",
     "text": [
      "-1\n"
     ]
    }
   ],
   "source": [
    "print(a.rfind('A'))"
   ]
  },
  {
   "cell_type": "code",
   "execution_count": 72,
   "id": "bee8e308",
   "metadata": {},
   "outputs": [
    {
     "name": "stdout",
     "output_type": "stream",
     "text": [
      "('Indian', ' ', 'Research Center')\n"
     ]
    }
   ],
   "source": [
    "print(a.partition(' '))"
   ]
  },
  {
   "cell_type": "code",
   "execution_count": 73,
   "id": "24ddc241",
   "metadata": {},
   "outputs": [
    {
     "name": "stdout",
     "output_type": "stream",
     "text": [
      "0\n"
     ]
    }
   ],
   "source": [
    "print(a.rindex(\"I\"))"
   ]
  },
  {
   "cell_type": "code",
   "execution_count": 74,
   "id": "7e9bf819",
   "metadata": {},
   "outputs": [
    {
     "name": "stdout",
     "output_type": "stream",
     "text": [
      "Indian Research Center\n"
     ]
    }
   ],
   "source": [
    "print(a.rjust(6))"
   ]
  },
  {
   "cell_type": "code",
   "execution_count": 75,
   "id": "1eaf553a",
   "metadata": {},
   "outputs": [
    {
     "name": "stdout",
     "output_type": "stream",
     "text": [
      "('Indian Research', ' ', 'Center')\n"
     ]
    }
   ],
   "source": [
    "print(a.rpartition(' '))"
   ]
  },
  {
   "cell_type": "code",
   "execution_count": 76,
   "id": "62d8b708",
   "metadata": {},
   "outputs": [
    {
     "name": "stdout",
     "output_type": "stream",
     "text": [
      "['Indian', 'Research', 'Center']\n"
     ]
    }
   ],
   "source": [
    "print(a.rsplit())"
   ]
  },
  {
   "cell_type": "code",
   "execution_count": 77,
   "id": "6bfb8ebe",
   "metadata": {},
   "outputs": [
    {
     "name": "stdout",
     "output_type": "stream",
     "text": [
      "Indian Research Center\n"
     ]
    }
   ],
   "source": [
    "print(a.rstrip())"
   ]
  },
  {
   "cell_type": "code",
   "execution_count": 78,
   "id": "f8e0d663",
   "metadata": {},
   "outputs": [
    {
     "name": "stdout",
     "output_type": "stream",
     "text": [
      "['Indian Research Center']\n"
     ]
    }
   ],
   "source": [
    "print(a.splitlines())"
   ]
  },
  {
   "cell_type": "code",
   "execution_count": 79,
   "id": "238a3b15",
   "metadata": {},
   "outputs": [
    {
     "name": "stdout",
     "output_type": "stream",
     "text": [
      "True\n"
     ]
    }
   ],
   "source": [
    "print(a.startswith('I'))"
   ]
  },
  {
   "cell_type": "code",
   "execution_count": 80,
   "id": "1c87a2c5",
   "metadata": {},
   "outputs": [
    {
     "name": "stdout",
     "output_type": "stream",
     "text": [
      "Indian Research Center\n"
     ]
    }
   ],
   "source": [
    "print(a.strip())"
   ]
  },
  {
   "cell_type": "code",
   "execution_count": 81,
   "id": "c79ffdb7",
   "metadata": {},
   "outputs": [
    {
     "name": "stdout",
     "output_type": "stream",
     "text": [
      "iNDIAN rESEARCH cENTER\n"
     ]
    }
   ],
   "source": [
    "print(a.swapcase())"
   ]
  },
  {
   "cell_type": "code",
   "execution_count": 82,
   "id": "2a26c880",
   "metadata": {},
   "outputs": [
    {
     "name": "stdout",
     "output_type": "stream",
     "text": [
      "Indian Research Center\n"
     ]
    }
   ],
   "source": [
    "print(a.title())"
   ]
  },
  {
   "cell_type": "code",
   "execution_count": 83,
   "id": "f66d93d1",
   "metadata": {},
   "outputs": [
    {
     "name": "stdout",
     "output_type": "stream",
     "text": [
      "INDIAN RESEARCH CENTER\n"
     ]
    }
   ],
   "source": [
    "print(a.upper())\n"
   ]
  },
  {
   "cell_type": "code",
   "execution_count": 84,
   "id": "8888684a",
   "metadata": {},
   "outputs": [
    {
     "name": "stdout",
     "output_type": "stream",
     "text": [
      "Indian Research Center\n"
     ]
    }
   ],
   "source": [
    "print(a.zfill(10))"
   ]
  },
  {
   "cell_type": "code",
   "execution_count": null,
   "id": "425f9cf8",
   "metadata": {},
   "outputs": [],
   "source": [
    "#a.maketrans('D')\n",
    "#a.translate()"
   ]
  }
 ],
 "metadata": {
  "kernelspec": {
   "display_name": "Python 3",
   "language": "python",
   "name": "python3"
  },
  "language_info": {
   "codemirror_mode": {
    "name": "ipython",
    "version": 3
   },
   "file_extension": ".py",
   "mimetype": "text/x-python",
   "name": "python",
   "nbconvert_exporter": "python",
   "pygments_lexer": "ipython3",
   "version": "3.8.8"
  }
 },
 "nbformat": 4,
 "nbformat_minor": 5
}
